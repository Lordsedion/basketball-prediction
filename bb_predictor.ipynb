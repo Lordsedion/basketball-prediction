{
 "cells": [
  {
   "cell_type": "code",
   "execution_count": 1,
   "id": "d4bc1087",
   "metadata": {},
   "outputs": [],
   "source": [
    "import pandas as pd\n",
    "import numpy as np\n",
    "import matplotlib.pyplot as plt\n",
    "from sklearn.ensemble import RandomForestRegressor\n",
    "from sklearn.svm import SVR\n",
    "from sklearn.neural_network import MLPRegressor\n",
    "from sklearn.model_selection import GridSearchCV"
   ]
  },
  {
   "cell_type": "code",
   "execution_count": 206,
   "id": "8aab9c94",
   "metadata": {},
   "outputs": [],
   "source": [
    "df = pd.read_csv('sac_kings.csv')"
   ]
  },
  {
   "cell_type": "code",
   "execution_count": 207,
   "id": "525fa025",
   "metadata": {},
   "outputs": [
    {
     "data": {
      "text/plain": [
       "Index(['Unnamed: 0', 'home_team', 'away_team', 'first_quarter_home',\n",
       "       'second_quarter_home', 'third_quarter_home', 'fourth_quarter_home',\n",
       "       'first_quarter_away', 'second_quarter_away', 'third_quarter_away',\n",
       "       'fourth_quarter_away', 'event_time'],\n",
       "      dtype='object')"
      ]
     },
     "execution_count": 207,
     "metadata": {},
     "output_type": "execute_result"
    }
   ],
   "source": [
    "df.columns"
   ]
  },
  {
   "cell_type": "code",
   "execution_count": 208,
   "id": "ada86fd1",
   "metadata": {},
   "outputs": [],
   "source": [
    "def swap(A, B, index):\n",
    "    placeholder = A[index]\n",
    "    A[index] = B[index]\n",
    "    B[index] = placeholder\n",
    "    \n",
    "    return (A, B)"
   ]
  },
  {
   "cell_type": "code",
   "execution_count": 209,
   "id": "8c9af19f",
   "metadata": {
    "scrolled": true
   },
   "outputs": [
    {
     "name": "stderr",
     "output_type": "stream",
     "text": [
      "C:\\Users\\user\\AppData\\Local\\Temp\\ipykernel_1280\\1565766052.py:4: SettingWithCopyWarning: \n",
      "A value is trying to be set on a copy of a slice from a DataFrame\n",
      "\n",
      "See the caveats in the documentation: https://pandas.pydata.org/pandas-docs/stable/user_guide/indexing.html#returning-a-view-versus-a-copy\n",
      "  df['Home'][team] = 0\n",
      "C:\\Users\\user\\AppData\\Local\\Temp\\ipykernel_1280\\3371292939.py:3: SettingWithCopyWarning: \n",
      "A value is trying to be set on a copy of a slice from a DataFrame\n",
      "\n",
      "See the caveats in the documentation: https://pandas.pydata.org/pandas-docs/stable/user_guide/indexing.html#returning-a-view-versus-a-copy\n",
      "  A[index] = B[index]\n",
      "C:\\Users\\user\\AppData\\Local\\Temp\\ipykernel_1280\\1565766052.py:12: SettingWithCopyWarning: \n",
      "A value is trying to be set on a copy of a slice from a DataFrame\n",
      "\n",
      "See the caveats in the documentation: https://pandas.pydata.org/pandas-docs/stable/user_guide/indexing.html#returning-a-view-versus-a-copy\n",
      "  df['Home'][team] = 1\n"
     ]
    }
   ],
   "source": [
    "df['Home'] = [i for i in range(len(df.home_team))]\n",
    "for team in range(len(df.home_team)):\n",
    "    if df.home_team[team] != 'Philadelphia 76ers':\n",
    "        df['Home'][team] = 0\n",
    "        df.home_team, df.away_team =  swap(df.home_team, df.away_team, team)\n",
    "        \n",
    "        df.first_quarter_home, df.first_quarter_away = swap(df.first_quarter_home, df.first_quarter_away, team)\n",
    "        df.second_quarter_home, df.second_quarter_away = swap(df.second_quarter_home, df.second_quarter_away, team)\n",
    "        df.third_quarter_home, df.third_quarter_away = swap(df.third_quarter_home, df.third_quarter_away, team)\n",
    "        df.fourth_quarter_home, df.fourth_quarter_away = swap(df.fourth_quarter_home, df.fourth_quarter_away, team)\n",
    "    else:\n",
    "        df['Home'][team] = 1\n",
    "                "
   ]
  },
  {
   "cell_type": "code",
   "execution_count": 210,
   "id": "649d4d59",
   "metadata": {},
   "outputs": [
    {
     "data": {
      "text/html": [
       "<div>\n",
       "<style scoped>\n",
       "    .dataframe tbody tr th:only-of-type {\n",
       "        vertical-align: middle;\n",
       "    }\n",
       "\n",
       "    .dataframe tbody tr th {\n",
       "        vertical-align: top;\n",
       "    }\n",
       "\n",
       "    .dataframe thead th {\n",
       "        text-align: right;\n",
       "    }\n",
       "</style>\n",
       "<table border=\"1\" class=\"dataframe\">\n",
       "  <thead>\n",
       "    <tr style=\"text-align: right;\">\n",
       "      <th></th>\n",
       "      <th>Unnamed: 0</th>\n",
       "      <th>home_team</th>\n",
       "      <th>away_team</th>\n",
       "      <th>first_quarter_home</th>\n",
       "      <th>second_quarter_home</th>\n",
       "      <th>third_quarter_home</th>\n",
       "      <th>fourth_quarter_home</th>\n",
       "      <th>first_quarter_away</th>\n",
       "      <th>second_quarter_away</th>\n",
       "      <th>third_quarter_away</th>\n",
       "      <th>fourth_quarter_away</th>\n",
       "      <th>event_time</th>\n",
       "      <th>Home</th>\n",
       "    </tr>\n",
       "  </thead>\n",
       "  <tbody>\n",
       "    <tr>\n",
       "      <th>0</th>\n",
       "      <td>0</td>\n",
       "      <td>Sacramento Kings</td>\n",
       "      <td>Denver Nuggets</td>\n",
       "      <td>43</td>\n",
       "      <td>24</td>\n",
       "      <td>14</td>\n",
       "      <td>14</td>\n",
       "      <td>26</td>\n",
       "      <td>33</td>\n",
       "      <td>24</td>\n",
       "      <td>26</td>\n",
       "      <td>09.04. 20:30</td>\n",
       "      <td>0</td>\n",
       "    </tr>\n",
       "    <tr>\n",
       "      <th>1</th>\n",
       "      <td>1</td>\n",
       "      <td>Golden State Warriors</td>\n",
       "      <td>Sacramento Kings</td>\n",
       "      <td>32</td>\n",
       "      <td>21</td>\n",
       "      <td>33</td>\n",
       "      <td>33</td>\n",
       "      <td>16</td>\n",
       "      <td>32</td>\n",
       "      <td>25</td>\n",
       "      <td>24</td>\n",
       "      <td>08.04. 03:00</td>\n",
       "      <td>0</td>\n",
       "    </tr>\n",
       "    <tr>\n",
       "      <th>2</th>\n",
       "      <td>2</td>\n",
       "      <td>Sacramento Kings</td>\n",
       "      <td>Dallas Mavericks</td>\n",
       "      <td>27</td>\n",
       "      <td>44</td>\n",
       "      <td>21</td>\n",
       "      <td>27</td>\n",
       "      <td>28</td>\n",
       "      <td>32</td>\n",
       "      <td>32</td>\n",
       "      <td>31</td>\n",
       "      <td>06.04. 01:30</td>\n",
       "      <td>0</td>\n",
       "    </tr>\n",
       "    <tr>\n",
       "      <th>3</th>\n",
       "      <td>3</td>\n",
       "      <td>Sacramento Kings</td>\n",
       "      <td>New Orleans Pelicans</td>\n",
       "      <td>25</td>\n",
       "      <td>40</td>\n",
       "      <td>31</td>\n",
       "      <td>25</td>\n",
       "      <td>22</td>\n",
       "      <td>32</td>\n",
       "      <td>26</td>\n",
       "      <td>23</td>\n",
       "      <td>05.04. 01:00</td>\n",
       "      <td>0</td>\n",
       "    </tr>\n",
       "    <tr>\n",
       "      <th>4</th>\n",
       "      <td>4</td>\n",
       "      <td>San Antonio Spurs</td>\n",
       "      <td>Sacramento Kings</td>\n",
       "      <td>32</td>\n",
       "      <td>31</td>\n",
       "      <td>33</td>\n",
       "      <td>27</td>\n",
       "      <td>30</td>\n",
       "      <td>28</td>\n",
       "      <td>34</td>\n",
       "      <td>31</td>\n",
       "      <td>02.04. 23:00\\nAOT</td>\n",
       "      <td>0</td>\n",
       "    </tr>\n",
       "  </tbody>\n",
       "</table>\n",
       "</div>"
      ],
      "text/plain": [
       "   Unnamed: 0              home_team             away_team  \\\n",
       "0           0       Sacramento Kings        Denver Nuggets   \n",
       "1           1  Golden State Warriors      Sacramento Kings   \n",
       "2           2       Sacramento Kings      Dallas Mavericks   \n",
       "3           3       Sacramento Kings  New Orleans Pelicans   \n",
       "4           4      San Antonio Spurs      Sacramento Kings   \n",
       "\n",
       "   first_quarter_home  second_quarter_home  third_quarter_home  \\\n",
       "0                  43                   24                  14   \n",
       "1                  32                   21                  33   \n",
       "2                  27                   44                  21   \n",
       "3                  25                   40                  31   \n",
       "4                  32                   31                  33   \n",
       "\n",
       "   fourth_quarter_home  first_quarter_away  second_quarter_away  \\\n",
       "0                   14                  26                   33   \n",
       "1                   33                  16                   32   \n",
       "2                   27                  28                   32   \n",
       "3                   25                  22                   32   \n",
       "4                   27                  30                   28   \n",
       "\n",
       "   third_quarter_away  fourth_quarter_away         event_time  Home  \n",
       "0                  24                   26       09.04. 20:30     0  \n",
       "1                  25                   24       08.04. 03:00     0  \n",
       "2                  32                   31       06.04. 01:30     0  \n",
       "3                  26                   23       05.04. 01:00     0  \n",
       "4                  34                   31  02.04. 23:00\\nAOT     0  "
      ]
     },
     "execution_count": 210,
     "metadata": {},
     "output_type": "execute_result"
    }
   ],
   "source": [
    "df[:5]"
   ]
  },
  {
   "cell_type": "code",
   "execution_count": 211,
   "id": "bfe4f7ff",
   "metadata": {},
   "outputs": [
    {
     "data": {
      "text/plain": [
       "[<matplotlib.lines.Line2D at 0x1b0e02a2130>]"
      ]
     },
     "execution_count": 211,
     "metadata": {},
     "output_type": "execute_result"
    },
    {
     "data": {
      "image/png": "[encoded data removed]",
      "text/plain": [
       "<Figure size 640x480 with 1 Axes>"
      ]
     },
     "metadata": {},
     "output_type": "display_data"
    }
   ],
   "source": [
    "x1 = list(df['first_quarter_home'][:20][::-1])\n",
    "x2 = list(df['second_quarter_home'][:20][::-1])\n",
    "x3 = list(df['third_quarter_home'][:20][::-1])\n",
    "x4 = list(df['fourth_quarter_home'][:20][::-1])\n",
    "\n",
    "plt.plot(x1, linestyle='--', marker='*', linewidth=1, color='r')\n",
    "plt.plot(x2, linestyle='--', marker='*', linewidth=1, color='b')\n",
    "# plt.plot(x3, linestyle='--', marker='*', linewidth=0.5, color='g')\n",
    "# plt.plot(x4, linestyle='--', marker='*', linewidth=1, color='y')"
   ]
  },
  {
   "cell_type": "code",
   "execution_count": 212,
   "id": "68a34fa9",
   "metadata": {
    "scrolled": true
   },
   "outputs": [
    {
     "name": "stdout",
     "output_type": "stream",
     "text": [
      "First Quarter: 21                    Second Quarter: 37\n",
      "First Quarter: 19                    Second Quarter: 26\n",
      "First Quarter: 17                    Second Quarter: 35\n",
      "First Quarter: 13                    Second Quarter: 27\n",
      "First Quarter: 15                    Second Quarter: 17\n",
      "First Quarter: 13                    Second Quarter: 14\n",
      "First Quarter: 21                    Second Quarter: 23\n",
      "First Quarter: 13                    Second Quarter: 24\n",
      "First Quarter: 15                    Second Quarter: 17\n",
      "First Quarter: 20                    Second Quarter: 34\n",
      "First Quarter: 18                    Second Quarter: 30\n",
      "First Quarter: 20                    Second Quarter: 23\n",
      "First Quarter: 20                    Second Quarter: 30\n",
      "First Quarter: 16                    Second Quarter: 30\n",
      "First Quarter: 20                    Second Quarter: 29\n",
      "First Quarter: 18                    Second Quarter: 39\n",
      "First Quarter: 21                    Second Quarter: 19\n",
      "First Quarter: 13                    Second Quarter: 17\n",
      "First Quarter: 17                    Second Quarter: 31\n",
      "First Quarter: 17                    Second Quarter: 26\n",
      "First Quarter: 19                    Second Quarter: 22\n",
      "First Quarter: 16                    Second Quarter: 29\n",
      "First Quarter: 17                    Second Quarter: 21\n",
      "First Quarter: 14                    Second Quarter: 21\n",
      "First Quarter: 18                    Second Quarter: 26\n",
      "First Quarter: 19                    Second Quarter: 13\n",
      "First Quarter: 21                    Second Quarter: 20\n",
      "First Quarter: 19                    Second Quarter: 34\n",
      "First Quarter: 20                    Second Quarter: 28\n",
      "First Quarter: 20                    Second Quarter: 27\n",
      "First Quarter: 21                    Second Quarter: 38\n",
      "First Quarter: 19                    Second Quarter: 33\n",
      "First Quarter: 19                    Second Quarter: 31\n"
     ]
    }
   ],
   "source": [
    "for i in range(len(list(df['first_quarter_home'][::-1]))):\n",
    "    if list(df['first_quarter_home'][::-1])[i] <= 21:\n",
    "        print(f\"First Quarter: {list(df['first_quarter_home'][::-1])[i]}                    Second Quarter: {list(df['second_quarter_home'][::-1])[i]}\")"
   ]
  },
  {
   "cell_type": "code",
   "execution_count": 213,
   "id": "1ec6f877",
   "metadata": {},
   "outputs": [
    {
     "name": "stdout",
     "output_type": "stream",
     "text": [
      "[30, 26, 34, 19, 36, 32, 25, 27, 32, 43]\n",
      "[37, 35, 23, 31, 35, 31, 40, 44, 21, 24]\n",
      "[26, 17, 29, 33, 33, 33, 31, 21, 33, 14]\n",
      "[34, 35, 33, 37, 34, 27, 25, 27, 33, 14]\n"
     ]
    }
   ],
   "source": [
    "print(list(df['first_quarter_home'][:10][::-1]))\n",
    "print(list(df['second_quarter_home'][:10][::-1]))\n",
    "print(list(df['third_quarter_home'][:10][::-1]))\n",
    "print(list(df['fourth_quarter_home'][:10][::-1]))"
   ]
  },
  {
   "cell_type": "raw",
   "id": "8ea2478f",
   "metadata": {},
   "source": [
    "t = 10\n",
    "for i in range(15):\n",
    "    t -= 0.5\n",
    "    print(f\"{i+1} team has  score of {t}\")"
   ]
  },
  {
   "cell_type": "code",
   "execution_count": 214,
   "id": "463b09bc",
   "metadata": {},
   "outputs": [],
   "source": [
    "ratings = {'Denver Nuggets': 9.5, 'Memphis Grizzlies': 9.0, 'Sacramento Kings': 8.5, 'Phoenix Suns': 8, 'Los Angeles Clippers': 7.5, \n",
    " 'Golden State Warriors': 7, 'Los Angeles Lakers': 6.5, 'Minnesota Timberwolves': 6,\n",
    "'New Orleans Pelicans': 5.5, 'Oklahoma City Thunder': 5, 'Dallas Mavericks': 4.5, \n",
    "'Utah Jazz White': 4,'Utah Jazz': 4,'Utah Jazz Blue': 4, 'Portland Trail Blazers': 3.5, 'Houston Rockets': 3, \n",
    " 'San Antonio Spurs': 2.5, 'Milwaukee Bucks': 9.5, 'Boston Celtics': 9, \n",
    "'Philadelphia 76ers': 8.5, 'Cleveland Cavaliers': 8, 'New York Knicks': 7.5,\n",
    "'Brooklyn Nets': 7, 'Miami Heat': 6.5, 'Atlanta Hawks': 6,\n",
    "'Toronto Raptors': 5.5, 'Chicago Bulls': 5, 'Washington Wizards': 4.5, \n",
    "'Indiana Pacers':4, 'Orlando Magic': 3.5, 'Charlotte Hornets': 3, 'Detroit Pistons': 2.5}"
   ]
  },
  {
   "cell_type": "raw",
   "id": "45bfa876",
   "metadata": {},
   "source": [
    "dl = pd.read_csv('euroleague_ratings.csv')\n",
    "dl[:5]"
   ]
  },
  {
   "cell_type": "raw",
   "id": "ed480e24",
   "metadata": {},
   "source": [
    "ratings = {}\n",
    "for i in range(len(dl['home_team'])):\n",
    "    ratings[dl['home_team'][i]] = dl['ratings'][i]"
   ]
  },
  {
   "cell_type": "code",
   "execution_count": 215,
   "id": "77548d75",
   "metadata": {
    "scrolled": true
   },
   "outputs": [
    {
     "name": "stdout",
     "output_type": "stream",
     "text": [
      "{'Denver Nuggets': 9.5, 'Memphis Grizzlies': 9.0, 'Sacramento Kings': 8.5, 'Phoenix Suns': 8, 'Los Angeles Clippers': 7.5, 'Golden State Warriors': 7, 'Los Angeles Lakers': 6.5, 'Minnesota Timberwolves': 6, 'New Orleans Pelicans': 5.5, 'Oklahoma City Thunder': 5, 'Dallas Mavericks': 4.5, 'Utah Jazz White': 4, 'Utah Jazz': 4, 'Utah Jazz Blue': 4, 'Portland Trail Blazers': 3.5, 'Houston Rockets': 3, 'San Antonio Spurs': 2.5, 'Milwaukee Bucks': 9.5, 'Boston Celtics': 9, 'Philadelphia 76ers': 8.5, 'Cleveland Cavaliers': 8, 'New York Knicks': 7.5, 'Brooklyn Nets': 7, 'Miami Heat': 6.5, 'Atlanta Hawks': 6, 'Toronto Raptors': 5.5, 'Chicago Bulls': 5, 'Washington Wizards': 4.5, 'Indiana Pacers': 4, 'Orlando Magic': 3.5, 'Charlotte Hornets': 3, 'Detroit Pistons': 2.5}\n"
     ]
    }
   ],
   "source": [
    "print(ratings)"
   ]
  },
  {
   "cell_type": "code",
   "execution_count": 216,
   "id": "5f4a3010",
   "metadata": {},
   "outputs": [
    {
     "data": {
      "text/plain": [
       "8.5"
      ]
     },
     "execution_count": 216,
     "metadata": {},
     "output_type": "execute_result"
    }
   ],
   "source": [
    "ratings['Miami Heat']\n",
    "ratings[df.home_team[2]]"
   ]
  },
  {
   "cell_type": "code",
   "execution_count": 217,
   "id": "a72974df",
   "metadata": {},
   "outputs": [
    {
     "data": {
      "text/html": [
       "<div>\n",
       "<style scoped>\n",
       "    .dataframe tbody tr th:only-of-type {\n",
       "        vertical-align: middle;\n",
       "    }\n",
       "\n",
       "    .dataframe tbody tr th {\n",
       "        vertical-align: top;\n",
       "    }\n",
       "\n",
       "    .dataframe thead th {\n",
       "        text-align: right;\n",
       "    }\n",
       "</style>\n",
       "<table border=\"1\" class=\"dataframe\">\n",
       "  <thead>\n",
       "    <tr style=\"text-align: right;\">\n",
       "      <th></th>\n",
       "      <th>Unnamed: 0</th>\n",
       "      <th>home_team</th>\n",
       "      <th>away_team</th>\n",
       "      <th>first_quarter_home</th>\n",
       "      <th>second_quarter_home</th>\n",
       "      <th>third_quarter_home</th>\n",
       "      <th>fourth_quarter_home</th>\n",
       "      <th>first_quarter_away</th>\n",
       "      <th>second_quarter_away</th>\n",
       "      <th>third_quarter_away</th>\n",
       "      <th>fourth_quarter_away</th>\n",
       "      <th>event_time</th>\n",
       "      <th>Home</th>\n",
       "    </tr>\n",
       "  </thead>\n",
       "  <tbody>\n",
       "    <tr>\n",
       "      <th>0</th>\n",
       "      <td>0</td>\n",
       "      <td>Sacramento Kings</td>\n",
       "      <td>Denver Nuggets</td>\n",
       "      <td>43</td>\n",
       "      <td>24</td>\n",
       "      <td>14</td>\n",
       "      <td>14</td>\n",
       "      <td>26</td>\n",
       "      <td>33</td>\n",
       "      <td>24</td>\n",
       "      <td>26</td>\n",
       "      <td>09.04. 20:30</td>\n",
       "      <td>0</td>\n",
       "    </tr>\n",
       "    <tr>\n",
       "      <th>1</th>\n",
       "      <td>1</td>\n",
       "      <td>Golden State Warriors</td>\n",
       "      <td>Sacramento Kings</td>\n",
       "      <td>32</td>\n",
       "      <td>21</td>\n",
       "      <td>33</td>\n",
       "      <td>33</td>\n",
       "      <td>16</td>\n",
       "      <td>32</td>\n",
       "      <td>25</td>\n",
       "      <td>24</td>\n",
       "      <td>08.04. 03:00</td>\n",
       "      <td>0</td>\n",
       "    </tr>\n",
       "    <tr>\n",
       "      <th>2</th>\n",
       "      <td>2</td>\n",
       "      <td>Sacramento Kings</td>\n",
       "      <td>Dallas Mavericks</td>\n",
       "      <td>27</td>\n",
       "      <td>44</td>\n",
       "      <td>21</td>\n",
       "      <td>27</td>\n",
       "      <td>28</td>\n",
       "      <td>32</td>\n",
       "      <td>32</td>\n",
       "      <td>31</td>\n",
       "      <td>06.04. 01:30</td>\n",
       "      <td>0</td>\n",
       "    </tr>\n",
       "    <tr>\n",
       "      <th>3</th>\n",
       "      <td>3</td>\n",
       "      <td>Sacramento Kings</td>\n",
       "      <td>New Orleans Pelicans</td>\n",
       "      <td>25</td>\n",
       "      <td>40</td>\n",
       "      <td>31</td>\n",
       "      <td>25</td>\n",
       "      <td>22</td>\n",
       "      <td>32</td>\n",
       "      <td>26</td>\n",
       "      <td>23</td>\n",
       "      <td>05.04. 01:00</td>\n",
       "      <td>0</td>\n",
       "    </tr>\n",
       "    <tr>\n",
       "      <th>4</th>\n",
       "      <td>4</td>\n",
       "      <td>San Antonio Spurs</td>\n",
       "      <td>Sacramento Kings</td>\n",
       "      <td>32</td>\n",
       "      <td>31</td>\n",
       "      <td>33</td>\n",
       "      <td>27</td>\n",
       "      <td>30</td>\n",
       "      <td>28</td>\n",
       "      <td>34</td>\n",
       "      <td>31</td>\n",
       "      <td>02.04. 23:00\\nAOT</td>\n",
       "      <td>0</td>\n",
       "    </tr>\n",
       "  </tbody>\n",
       "</table>\n",
       "</div>"
      ],
      "text/plain": [
       "   Unnamed: 0              home_team             away_team  \\\n",
       "0           0       Sacramento Kings        Denver Nuggets   \n",
       "1           1  Golden State Warriors      Sacramento Kings   \n",
       "2           2       Sacramento Kings      Dallas Mavericks   \n",
       "3           3       Sacramento Kings  New Orleans Pelicans   \n",
       "4           4      San Antonio Spurs      Sacramento Kings   \n",
       "\n",
       "   first_quarter_home  second_quarter_home  third_quarter_home  \\\n",
       "0                  43                   24                  14   \n",
       "1                  32                   21                  33   \n",
       "2                  27                   44                  21   \n",
       "3                  25                   40                  31   \n",
       "4                  32                   31                  33   \n",
       "\n",
       "   fourth_quarter_home  first_quarter_away  second_quarter_away  \\\n",
       "0                   14                  26                   33   \n",
       "1                   33                  16                   32   \n",
       "2                   27                  28                   32   \n",
       "3                   25                  22                   32   \n",
       "4                   27                  30                   28   \n",
       "\n",
       "   third_quarter_away  fourth_quarter_away         event_time  Home  \n",
       "0                  24                   26       09.04. 20:30     0  \n",
       "1                  25                   24       08.04. 03:00     0  \n",
       "2                  32                   31       06.04. 01:30     0  \n",
       "3                  26                   23       05.04. 01:00     0  \n",
       "4                  34                   31  02.04. 23:00\\nAOT     0  "
      ]
     },
     "execution_count": 217,
     "metadata": {},
     "output_type": "execute_result"
    }
   ],
   "source": [
    "df[:5]"
   ]
  },
  {
   "cell_type": "raw",
   "id": "b9e89306",
   "metadata": {},
   "source": [
    "df = pd.read_csv('zveda.csv')\n",
    "\n",
    "df['Home'] = [i for i in range(len(df.home_team))]\n",
    "for team in range(len(df.home_team)):\n",
    "    if df.home_team[team] != 'Crvena zvezda':\n",
    "        df['Home'][team] = 0\n",
    "        df.home_team, df.away_team =  swap(df.home_team, df.away_team, team)\n",
    "        \n",
    "        df.first_quarter_home, df.first_quarter_away = swap(df.first_quarter_home, df.first_quarter_away, team)\n",
    "        df.second_quarter_home, df.second_quarter_away = swap(df.second_quarter_home, df.second_quarter_away, team)\n",
    "        df.third_quarter_home, df.third_quarter_away = swap(df.third_quarter_home, df.third_quarter_away, team)\n",
    "        df.fourth_quarter_home, df.fourth_quarter_away = swap(df.fourth_quarter_home, df.fourth_quarter_away, team)\n",
    "    else:\n",
    "        df['Home'][team] = 1\n",
    "                "
   ]
  },
  {
   "cell_type": "code",
   "execution_count": 218,
   "id": "3425abc0",
   "metadata": {
    "scrolled": true
   },
   "outputs": [
    {
     "name": "stderr",
     "output_type": "stream",
     "text": [
      "C:\\Users\\user\\AppData\\Local\\Temp\\ipykernel_1280\\3260995663.py:7: SettingWithCopyWarning: \n",
      "A value is trying to be set on a copy of a slice from a DataFrame\n",
      "\n",
      "See the caveats in the documentation: https://pandas.pydata.org/pandas-docs/stable/user_guide/indexing.html#returning-a-view-versus-a-copy\n",
      "  new_df.home_team[team] = ratings[new_df.home_team[team]]\n",
      "C:\\Users\\user\\AppData\\Local\\Temp\\ipykernel_1280\\3260995663.py:8: SettingWithCopyWarning: \n",
      "A value is trying to be set on a copy of a slice from a DataFrame\n",
      "\n",
      "See the caveats in the documentation: https://pandas.pydata.org/pandas-docs/stable/user_guide/indexing.html#returning-a-view-versus-a-copy\n",
      "  new_df.away_team[team] = ratings[new_df.away_team[team]]\n"
     ]
    }
   ],
   "source": [
    "new_df = df\n",
    "\n",
    "for team in range(len(new_df.home_team)):\n",
    "    if new_df.home_team[team] not in ratings.keys() or new_df.away_team[team] not in ratings.keys():\n",
    "        new_df.drop(team, axis=0, inplace=True)\n",
    "    else:\n",
    "        new_df.home_team[team] = ratings[new_df.home_team[team]]\n",
    "        new_df.away_team[team] = ratings[new_df.away_team[team]]\n"
   ]
  },
  {
   "cell_type": "code",
   "execution_count": 219,
   "id": "da02bc74",
   "metadata": {},
   "outputs": [
    {
     "data": {
      "text/html": [
       "<div>\n",
       "<style scoped>\n",
       "    .dataframe tbody tr th:only-of-type {\n",
       "        vertical-align: middle;\n",
       "    }\n",
       "\n",
       "    .dataframe tbody tr th {\n",
       "        vertical-align: top;\n",
       "    }\n",
       "\n",
       "    .dataframe thead th {\n",
       "        text-align: right;\n",
       "    }\n",
       "</style>\n",
       "<table border=\"1\" class=\"dataframe\">\n",
       "  <thead>\n",
       "    <tr style=\"text-align: right;\">\n",
       "      <th></th>\n",
       "      <th>Unnamed: 0</th>\n",
       "      <th>home_team</th>\n",
       "      <th>away_team</th>\n",
       "      <th>first_quarter_home</th>\n",
       "      <th>second_quarter_home</th>\n",
       "      <th>third_quarter_home</th>\n",
       "      <th>fourth_quarter_home</th>\n",
       "      <th>first_quarter_away</th>\n",
       "      <th>second_quarter_away</th>\n",
       "      <th>third_quarter_away</th>\n",
       "      <th>fourth_quarter_away</th>\n",
       "      <th>event_time</th>\n",
       "      <th>Home</th>\n",
       "    </tr>\n",
       "  </thead>\n",
       "  <tbody>\n",
       "    <tr>\n",
       "      <th>0</th>\n",
       "      <td>0</td>\n",
       "      <td>8.5</td>\n",
       "      <td>9.5</td>\n",
       "      <td>43</td>\n",
       "      <td>24</td>\n",
       "      <td>14</td>\n",
       "      <td>14</td>\n",
       "      <td>26</td>\n",
       "      <td>33</td>\n",
       "      <td>24</td>\n",
       "      <td>26</td>\n",
       "      <td>09.04. 20:30</td>\n",
       "      <td>0</td>\n",
       "    </tr>\n",
       "    <tr>\n",
       "      <th>1</th>\n",
       "      <td>1</td>\n",
       "      <td>7</td>\n",
       "      <td>8.5</td>\n",
       "      <td>32</td>\n",
       "      <td>21</td>\n",
       "      <td>33</td>\n",
       "      <td>33</td>\n",
       "      <td>16</td>\n",
       "      <td>32</td>\n",
       "      <td>25</td>\n",
       "      <td>24</td>\n",
       "      <td>08.04. 03:00</td>\n",
       "      <td>0</td>\n",
       "    </tr>\n",
       "    <tr>\n",
       "      <th>2</th>\n",
       "      <td>2</td>\n",
       "      <td>8.5</td>\n",
       "      <td>4.5</td>\n",
       "      <td>27</td>\n",
       "      <td>44</td>\n",
       "      <td>21</td>\n",
       "      <td>27</td>\n",
       "      <td>28</td>\n",
       "      <td>32</td>\n",
       "      <td>32</td>\n",
       "      <td>31</td>\n",
       "      <td>06.04. 01:30</td>\n",
       "      <td>0</td>\n",
       "    </tr>\n",
       "    <tr>\n",
       "      <th>3</th>\n",
       "      <td>3</td>\n",
       "      <td>8.5</td>\n",
       "      <td>5.5</td>\n",
       "      <td>25</td>\n",
       "      <td>40</td>\n",
       "      <td>31</td>\n",
       "      <td>25</td>\n",
       "      <td>22</td>\n",
       "      <td>32</td>\n",
       "      <td>26</td>\n",
       "      <td>23</td>\n",
       "      <td>05.04. 01:00</td>\n",
       "      <td>0</td>\n",
       "    </tr>\n",
       "    <tr>\n",
       "      <th>4</th>\n",
       "      <td>4</td>\n",
       "      <td>2.5</td>\n",
       "      <td>8.5</td>\n",
       "      <td>32</td>\n",
       "      <td>31</td>\n",
       "      <td>33</td>\n",
       "      <td>27</td>\n",
       "      <td>30</td>\n",
       "      <td>28</td>\n",
       "      <td>34</td>\n",
       "      <td>31</td>\n",
       "      <td>02.04. 23:00\\nAOT</td>\n",
       "      <td>0</td>\n",
       "    </tr>\n",
       "    <tr>\n",
       "      <th>...</th>\n",
       "      <td>...</td>\n",
       "      <td>...</td>\n",
       "      <td>...</td>\n",
       "      <td>...</td>\n",
       "      <td>...</td>\n",
       "      <td>...</td>\n",
       "      <td>...</td>\n",
       "      <td>...</td>\n",
       "      <td>...</td>\n",
       "      <td>...</td>\n",
       "      <td>...</td>\n",
       "      <td>...</td>\n",
       "      <td>...</td>\n",
       "    </tr>\n",
       "    <tr>\n",
       "      <th>235</th>\n",
       "      <td>235</td>\n",
       "      <td>8.5</td>\n",
       "      <td>8.5</td>\n",
       "      <td>42</td>\n",
       "      <td>24</td>\n",
       "      <td>21</td>\n",
       "      <td>32</td>\n",
       "      <td>32</td>\n",
       "      <td>39</td>\n",
       "      <td>20</td>\n",
       "      <td>20</td>\n",
       "      <td>10.02.2021</td>\n",
       "      <td>0</td>\n",
       "    </tr>\n",
       "    <tr>\n",
       "      <th>236</th>\n",
       "      <td>236</td>\n",
       "      <td>8.5</td>\n",
       "      <td>7.5</td>\n",
       "      <td>22</td>\n",
       "      <td>32</td>\n",
       "      <td>25</td>\n",
       "      <td>34</td>\n",
       "      <td>24</td>\n",
       "      <td>27</td>\n",
       "      <td>29</td>\n",
       "      <td>30</td>\n",
       "      <td>07.02.2021</td>\n",
       "      <td>0</td>\n",
       "    </tr>\n",
       "    <tr>\n",
       "      <th>237</th>\n",
       "      <td>237</td>\n",
       "      <td>9.5</td>\n",
       "      <td>8.5</td>\n",
       "      <td>25</td>\n",
       "      <td>27</td>\n",
       "      <td>29</td>\n",
       "      <td>33</td>\n",
       "      <td>26</td>\n",
       "      <td>27</td>\n",
       "      <td>34</td>\n",
       "      <td>32</td>\n",
       "      <td>06.02.2021</td>\n",
       "      <td>0</td>\n",
       "    </tr>\n",
       "    <tr>\n",
       "      <th>238</th>\n",
       "      <td>238</td>\n",
       "      <td>9</td>\n",
       "      <td>8.5</td>\n",
       "      <td>26</td>\n",
       "      <td>25</td>\n",
       "      <td>31</td>\n",
       "      <td>29</td>\n",
       "      <td>22</td>\n",
       "      <td>30</td>\n",
       "      <td>29</td>\n",
       "      <td>35</td>\n",
       "      <td>04.02.2021</td>\n",
       "      <td>0</td>\n",
       "    </tr>\n",
       "    <tr>\n",
       "      <th>239</th>\n",
       "      <td>239</td>\n",
       "      <td>8.5</td>\n",
       "      <td>5.5</td>\n",
       "      <td>30</td>\n",
       "      <td>30</td>\n",
       "      <td>27</td>\n",
       "      <td>31</td>\n",
       "      <td>33</td>\n",
       "      <td>29</td>\n",
       "      <td>32</td>\n",
       "      <td>15</td>\n",
       "      <td>02.02.2021</td>\n",
       "      <td>0</td>\n",
       "    </tr>\n",
       "  </tbody>\n",
       "</table>\n",
       "<p>240 rows × 13 columns</p>\n",
       "</div>"
      ],
      "text/plain": [
       "     Unnamed: 0 home_team away_team  first_quarter_home  second_quarter_home  \\\n",
       "0             0       8.5       9.5                  43                   24   \n",
       "1             1         7       8.5                  32                   21   \n",
       "2             2       8.5       4.5                  27                   44   \n",
       "3             3       8.5       5.5                  25                   40   \n",
       "4             4       2.5       8.5                  32                   31   \n",
       "..          ...       ...       ...                 ...                  ...   \n",
       "235         235       8.5       8.5                  42                   24   \n",
       "236         236       8.5       7.5                  22                   32   \n",
       "237         237       9.5       8.5                  25                   27   \n",
       "238         238         9       8.5                  26                   25   \n",
       "239         239       8.5       5.5                  30                   30   \n",
       "\n",
       "     third_quarter_home  fourth_quarter_home  first_quarter_away  \\\n",
       "0                    14                   14                  26   \n",
       "1                    33                   33                  16   \n",
       "2                    21                   27                  28   \n",
       "3                    31                   25                  22   \n",
       "4                    33                   27                  30   \n",
       "..                  ...                  ...                 ...   \n",
       "235                  21                   32                  32   \n",
       "236                  25                   34                  24   \n",
       "237                  29                   33                  26   \n",
       "238                  31                   29                  22   \n",
       "239                  27                   31                  33   \n",
       "\n",
       "     second_quarter_away  third_quarter_away  fourth_quarter_away  \\\n",
       "0                     33                  24                   26   \n",
       "1                     32                  25                   24   \n",
       "2                     32                  32                   31   \n",
       "3                     32                  26                   23   \n",
       "4                     28                  34                   31   \n",
       "..                   ...                 ...                  ...   \n",
       "235                   39                  20                   20   \n",
       "236                   27                  29                   30   \n",
       "237                   27                  34                   32   \n",
       "238                   30                  29                   35   \n",
       "239                   29                  32                   15   \n",
       "\n",
       "            event_time  Home  \n",
       "0         09.04. 20:30     0  \n",
       "1         08.04. 03:00     0  \n",
       "2         06.04. 01:30     0  \n",
       "3         05.04. 01:00     0  \n",
       "4    02.04. 23:00\\nAOT     0  \n",
       "..                 ...   ...  \n",
       "235         10.02.2021     0  \n",
       "236         07.02.2021     0  \n",
       "237         06.02.2021     0  \n",
       "238         04.02.2021     0  \n",
       "239         02.02.2021     0  \n",
       "\n",
       "[240 rows x 13 columns]"
      ]
     },
     "execution_count": 219,
     "metadata": {},
     "output_type": "execute_result"
    }
   ],
   "source": [
    "new_df"
   ]
  },
  {
   "cell_type": "code",
   "execution_count": 220,
   "id": "bba76b88",
   "metadata": {},
   "outputs": [],
   "source": [
    "x = df[['home_team', 'away_team', 'Home']][::-1]\n",
    "y = []\n",
    "for i in df.index:\n",
    "    try:\n",
    "        y.append(df.first_quarter_home[i] + df.second_quarter_home[i] + df.third_quarter_home[i] + df.fourth_quarter_home[i] + df.first_quarter_away[i] + df.second_quarter_away[i] + df.third_quarter_away[i] + df.fourth_quarter_away[i])\n",
    "    except:\n",
    "        continue\n",
    "# y = df['first_quarter_home'][::-1]\n",
    "y=y[::-1]\n",
    "x = np.asarray(x)"
   ]
  },
  {
   "cell_type": "code",
   "execution_count": 221,
   "id": "20f48e6b",
   "metadata": {},
   "outputs": [
    {
     "data": {
      "text/plain": [
       "(240, 3)"
      ]
     },
     "execution_count": 221,
     "metadata": {},
     "output_type": "execute_result"
    }
   ],
   "source": [
    "x.shape"
   ]
  },
  {
   "cell_type": "code",
   "execution_count": 238,
   "id": "004cbc2e",
   "metadata": {},
   "outputs": [
    {
     "name": "stdout",
     "output_type": "stream",
     "text": [
      "(240, 3)\n"
     ]
    }
   ],
   "source": [
    "x_train, x_test = x[:222], x[222:]\n",
    "y_train, y_test = y[:222], y[222:]\n",
    "print(x.shape)"
   ]
  },
  {
   "cell_type": "code",
   "execution_count": 239,
   "id": "d0beae2c",
   "metadata": {},
   "outputs": [
    {
     "data": {
      "text/plain": [
       "[239, 247, 257, 231, 197]"
      ]
     },
     "execution_count": 239,
     "metadata": {},
     "output_type": "execute_result"
    }
   ],
   "source": [
    "y_test[:5]"
   ]
  },
  {
   "cell_type": "code",
   "execution_count": 240,
   "id": "19b75218",
   "metadata": {},
   "outputs": [
    {
     "data": {
      "text/html": [
       "<style>#sk-container-id-24 {color: black;background-color: white;}#sk-container-id-24 pre{padding: 0;}#sk-container-id-24 div.sk-toggleable {background-color: white;}#sk-container-id-24 label.sk-toggleable__label {cursor: pointer;display: block;width: 100%;margin-bottom: 0;padding: 0.3em;box-sizing: border-box;text-align: center;}#sk-container-id-24 label.sk-toggleable__label-arrow:before {content: \"▸\";float: left;margin-right: 0.25em;color: #696969;}#sk-container-id-24 label.sk-toggleable__label-arrow:hover:before {color: black;}#sk-container-id-24 div.sk-estimator:hover label.sk-toggleable__label-arrow:before {color: black;}#sk-container-id-24 div.sk-toggleable__content {max-height: 0;max-width: 0;overflow: hidden;text-align: left;background-color: #f0f8ff;}#sk-container-id-24 div.sk-toggleable__content pre {margin: 0.2em;color: black;border-radius: 0.25em;background-color: #f0f8ff;}#sk-container-id-24 input.sk-toggleable__control:checked~div.sk-toggleable__content {max-height: 200px;max-width: 100%;overflow: auto;}#sk-container-id-24 input.sk-toggleable__control:checked~label.sk-toggleable__label-arrow:before {content: \"▾\";}#sk-container-id-24 div.sk-estimator input.sk-toggleable__control:checked~label.sk-toggleable__label {background-color: #d4ebff;}#sk-container-id-24 div.sk-label input.sk-toggleable__control:checked~label.sk-toggleable__label {background-color: #d4ebff;}#sk-container-id-24 input.sk-hidden--visually {border: 0;clip: rect(1px 1px 1px 1px);clip: rect(1px, 1px, 1px, 1px);height: 1px;margin: -1px;overflow: hidden;padding: 0;position: absolute;width: 1px;}#sk-container-id-24 div.sk-estimator {font-family: monospace;background-color: #f0f8ff;border: 1px dotted black;border-radius: 0.25em;box-sizing: border-box;margin-bottom: 0.5em;}#sk-container-id-24 div.sk-estimator:hover {background-color: #d4ebff;}#sk-container-id-24 div.sk-parallel-item::after {content: \"\";width: 100%;border-bottom: 1px solid gray;flex-grow: 1;}#sk-container-id-24 div.sk-label:hover label.sk-toggleable__label {background-color: #d4ebff;}#sk-container-id-24 div.sk-serial::before {content: \"\";position: absolute;border-left: 1px solid gray;box-sizing: border-box;top: 0;bottom: 0;left: 50%;z-index: 0;}#sk-container-id-24 div.sk-serial {display: flex;flex-direction: column;align-items: center;background-color: white;padding-right: 0.2em;padding-left: 0.2em;position: relative;}#sk-container-id-24 div.sk-item {position: relative;z-index: 1;}#sk-container-id-24 div.sk-parallel {display: flex;align-items: stretch;justify-content: center;background-color: white;position: relative;}#sk-container-id-24 div.sk-item::before, #sk-container-id-24 div.sk-parallel-item::before {content: \"\";position: absolute;border-left: 1px solid gray;box-sizing: border-box;top: 0;bottom: 0;left: 50%;z-index: -1;}#sk-container-id-24 div.sk-parallel-item {display: flex;flex-direction: column;z-index: 1;position: relative;background-color: white;}#sk-container-id-24 div.sk-parallel-item:first-child::after {align-self: flex-end;width: 50%;}#sk-container-id-24 div.sk-parallel-item:last-child::after {align-self: flex-start;width: 50%;}#sk-container-id-24 div.sk-parallel-item:only-child::after {width: 0;}#sk-container-id-24 div.sk-dashed-wrapped {border: 1px dashed gray;margin: 0 0.4em 0.5em 0.4em;box-sizing: border-box;padding-bottom: 0.4em;background-color: white;}#sk-container-id-24 div.sk-label label {font-family: monospace;font-weight: bold;display: inline-block;line-height: 1.2em;}#sk-container-id-24 div.sk-label-container {text-align: center;}#sk-container-id-24 div.sk-container {/* jupyter's `normalize.less` sets `[hidden] { display: none; }` but bootstrap.min.css set `[hidden] { display: none !important; }` so we also need the `!important` here to be able to override the default hidden behavior on the sphinx rendered scikit-learn.org. See: https://github.com/scikit-learn/scikit-learn/issues/21755 */display: inline-block !important;position: relative;}#sk-container-id-24 div.sk-text-repr-fallback {display: none;}</style><div id=\"sk-container-id-24\" class=\"sk-top-container\"><div class=\"sk-text-repr-fallback\"><pre>RandomForestRegressor(max_depth=100, n_estimators=4947, random_state=9)</pre><b>In a Jupyter environment, please rerun this cell to show the HTML representation or trust the notebook. <br />On GitHub, the HTML representation is unable to render, please try loading this page with nbviewer.org.</b></div><div class=\"sk-container\" hidden><div class=\"sk-item\"><div class=\"sk-estimator sk-toggleable\"><input class=\"sk-toggleable__control sk-hidden--visually\" id=\"sk-estimator-id-24\" type=\"checkbox\" checked><label for=\"sk-estimator-id-24\" class=\"sk-toggleable__label sk-toggleable__label-arrow\">RandomForestRegressor</label><div class=\"sk-toggleable__content\"><pre>RandomForestRegressor(max_depth=100, n_estimators=4947, random_state=9)</pre></div></div></div></div></div>"
      ],
      "text/plain": [
       "RandomForestRegressor(max_depth=100, n_estimators=4947, random_state=9)"
      ]
     },
     "execution_count": 240,
     "metadata": {},
     "output_type": "execute_result"
    }
   ],
   "source": [
    "rng = RandomForestRegressor(max_depth=100, n_estimators=4947,random_state=9)\n",
    "rng.fit(x_train, y_train)"
   ]
  },
  {
   "cell_type": "code",
   "execution_count": 241,
   "id": "e214e3fe",
   "metadata": {},
   "outputs": [],
   "source": [
    "# rng = MLPRegressor(max_iter=1500, random_state=9)\n",
    "# rng.fit(x_train, y_train)"
   ]
  },
  {
   "cell_type": "code",
   "execution_count": 245,
   "id": "78120a50",
   "metadata": {},
   "outputs": [],
   "source": [
    "y_pred = rng.predict(x_test)"
   ]
  },
  {
   "cell_type": "code",
   "execution_count": 246,
   "id": "6790f577",
   "metadata": {
    "scrolled": true
   },
   "outputs": [
    {
     "name": "stdout",
     "output_type": "stream",
     "text": [
      "Expected 239              Got 223.59185575671316.         Error: -> 15.408144243286841 \n",
      "\n",
      "\n",
      "Expected 247              Got 212.5362389269559.         Error: -> 34.46376107304411 \n",
      "\n",
      "\n",
      "Expected 257              Got 238.1245557064284.         Error: -> 18.875444293571604 \n",
      "\n",
      "\n",
      "Expected 231              Got 221.93735999155922.         Error: -> 9.06264000844078 \n",
      "\n",
      "\n",
      "Expected 197              Got 219.9257872199693.         Error: -> -22.925787219969294 \n",
      "\n",
      "\n",
      "Expected 250              Got 214.96867368302705.         Error: -> 35.03132631697295 \n",
      "\n",
      "\n",
      "Expected 248              Got 227.0482410286937.         Error: -> 20.951758971306305 \n",
      "\n",
      "\n",
      "Expected 241              Got 221.90271928784617.         Error: -> 19.097280712153832 \n",
      "\n",
      "\n",
      "Expected 262              Got 222.45717227352856.         Error: -> 39.542827726471444 \n",
      "\n",
      "\n",
      "Expected 234              Got 225.51191290040444.         Error: -> 8.48808709959556 \n",
      "\n",
      "\n",
      "Expected 234              Got 242.87347878869508.         Error: -> -8.873478788695081 \n",
      "\n",
      "\n",
      "Expected 200              Got 216.5201360410147.         Error: -> -16.520136041014695 \n",
      "\n",
      "\n",
      "Expected 252              Got 216.5201360410147.         Error: -> 35.479863958985305 \n",
      "\n",
      "\n",
      "Expected 246              Got 239.64744281375798.         Error: -> 6.352557186242024 \n",
      "\n",
      "\n",
      "Expected 224              Got 229.56119764329276.         Error: -> -5.561197643292758 \n",
      "\n",
      "\n",
      "Expected 242              Got 214.96867368302705.         Error: -> 27.03132631697295 \n",
      "\n",
      "\n",
      "Expected 216              Got 228.69073161087243.         Error: -> -12.690731610872433 \n",
      "\n",
      "\n",
      "Expected 204              Got 239.6899554893254.         Error: -> -35.6899554893254 \n",
      "\n",
      "\n"
     ]
    }
   ],
   "source": [
    "error = 0\n",
    "for i in range(len(y_pred)):\n",
    "    print(f\"Expected {y_test[i]}              Got {y_pred[i]}.         Error: -> {(y_test[i]-y_pred[i])} \\n\\n\")\n",
    "    if y_test[i] > y_pred[i]:\n",
    "        error += y_test[i]-y_pred[i]\n",
    "    else: \n",
    "        error += y_pred[i]-y_test[i]"
   ]
  },
  {
   "cell_type": "code",
   "execution_count": 247,
   "id": "c12123c8",
   "metadata": {},
   "outputs": [
    {
     "name": "stdout",
     "output_type": "stream",
     "text": [
      "The error is 20.66923915001185\n"
     ]
    }
   ],
   "source": [
    "print(f\"The error is {error/len(y_test)}\")"
   ]
  },
  {
   "cell_type": "raw",
   "id": "083a7773",
   "metadata": {},
   "source": [
    "\n",
    "\n",
    "\n",
    "rf = RandomForestRegressor()\n",
    "parameters = {\n",
    "    \"n_estimators\":[5,10,50,100,250, 500, 1000],\n",
    "    \"max_depth\":[2,4,8,16,32,None]\n",
    "    \n",
    "}\n",
    "cv = GridSearchCV(rf,parameters,cv=5)\n",
    "cv.fit(x_train, y_train)"
   ]
  },
  {
   "cell_type": "raw",
   "id": "ddad73c4",
   "metadata": {},
   "source": [
    "def display(results):\n",
    "    print(f'Best parameters are: {results.best_params_}')\n",
    "    print(\"\\n\")\n",
    "    mean_score = results.cv_results_['mean_test_score']\n",
    "    std_score = results.cv_results_['std_test_score']\n",
    "    params = results.cv_results_['params']\n",
    "    for mean,std,params in zip(mean_score,std_score,params):\n",
    "        print(f'{round(mean,3)} + or -{round(std,3)} for the {params}')\n",
    "        \n",
    "display(cv)"
   ]
  },
  {
   "cell_type": "code",
   "execution_count": 248,
   "id": "9a126651",
   "metadata": {},
   "outputs": [
    {
     "data": {
      "text/plain": [
       "array([219.63025583])"
      ]
     },
     "execution_count": 248,
     "metadata": {},
     "output_type": "execute_result"
    }
   ],
   "source": [
    "y_pred = np.append(y_pred, rng.predict(np.asarray([8.5, 7, 1]).reshape(1,-1)))\n",
    "rng.predict(np.asarray([8.5, 7, 1]).reshape(1,-1))"
   ]
  },
  {
   "cell_type": "code",
   "execution_count": 249,
   "id": "75ee5449",
   "metadata": {},
   "outputs": [
    {
     "data": {
      "text/plain": [
       "[<matplotlib.lines.Line2D at 0x1b0e02a2ee0>]"
      ]
     },
     "execution_count": 249,
     "metadata": {},
     "output_type": "execute_result"
    },
    {
     "data": {
      "image/png": "[encoded data removed]",
      "text/plain": [
       "<Figure size 640x480 with 1 Axes>"
      ]
     },
     "metadata": {},
     "output_type": "display_data"
    }
   ],
   "source": [
    "plt.plot(y_pred, color='r', marker='*', linestyle='--')\n",
    "plt.plot(y_test, color='b', marker='*')"
   ]
  },
  {
   "cell_type": "code",
   "execution_count": null,
   "id": "573cfd90",
   "metadata": {},
   "outputs": [],
   "source": []
  },
  {
   "cell_type": "code",
   "execution_count": null,
   "id": "dcbd02a0",
   "metadata": {},
   "outputs": [],
   "source": []
  }
 ],
 "metadata": {
  "kernelspec": {
   "display_name": "Python 3 (ipykernel)",
   "language": "python",
   "name": "python3"
  },
  "language_info": {
   "codemirror_mode": {
    "name": "ipython",
    "version": 3
   },
   "file_extension": ".py",
   "mimetype": "text/x-python",
   "name": "python",
   "nbconvert_exporter": "python",
   "pygments_lexer": "ipython3",
   "version": "3.9.13"
  }
 },
 "nbformat": 4,
 "nbformat_minor": 5
}
